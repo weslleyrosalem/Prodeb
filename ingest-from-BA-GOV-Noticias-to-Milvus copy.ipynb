{
 "cells": [
  {
   "cell_type": "code",
   "execution_count": null,
   "metadata": {},
   "outputs": [],
   "source": [
    "# Combining Milvus Data Upload and Web News Ingestion Scripts\n",
    "\n",
    "# Required libraries installation\n",
    "!pip install -q einops==0.7.0 langchain==0.1.9 pypdf==4.0.2 pymilvus==2.3.6 sentence-transformers==2.4.0 requests"
   ]
  },
  {
   "cell_type": "code",
   "execution_count": null,
   "metadata": {},
   "outputs": [],
   "source": [
    "# Importing necessary libraries\n",
    "import os\n",
    "import requests\n",
    "from langchain.text_splitter import RecursiveCharacterTextSplitter\n",
    "from langchain.embeddings.huggingface import HuggingFaceEmbeddings\n",
    "from langchain_community.vectorstores import Milvus"
   ]
  },
  {
   "cell_type": "code",
   "execution_count": null,
   "metadata": {},
   "outputs": [],
   "source": [
    "# Base parameters for Milvus connection\n",
    "MILVUS_HOST = \"vectordb-milvus.milvus.svc.cluster.local\"\n",
    "MILVUS_PORT = 19530\n",
    "MILVUS_USERNAME = \"root\"\n",
    "MILVUS_PASSWORD = \"Milvus\"\n",
    "MILVUS_COLLECTION = \"ba_gov_noticias\""
   ]
  },
  {
   "cell_type": "code",
   "execution_count": null,
   "metadata": {},
   "outputs": [],
   "source": [
    "# List of  URLs\n",
    "news_urls = [\n",
    "    \"https://www.ba.gov.br/noticias/366144/governo-da-bahia-decreta-luto-oficial-de-2-dias-pelas-mortes-ocorridas-em-acidente-na-br116\",\n",
    "    \"https://www.ba.gov.br/noticias/366130/governador-jeronimo-rodrigues-investe-mais-de-r-63-milhoes-em-seguranca-educacao-e-infraestrutura-em-paratinga\",\n",
    "    \"https://www.ba.gov.br/noticias/366122/governo-do-estado-garante-realizacao-do-por-do-som-com-daniela-mercury-na-barra\"\n",
    "]"
   ]
  },
  {
   "cell_type": "code",
   "execution_count": null,
   "metadata": {},
   "outputs": [],
   "source": [
    "# Function to fetch and process news articles\n",
    "def fetch_news_articles(urls):\n",
    "    articles = []\n",
    "    for url in urls:\n",
    "        try:\n",
    "            response = requests.get(url)\n",
    "            if response.status_code == 200:\n",
    "                articles.append({\"url\": url, \"content\": response.text})\n",
    "            else:\n",
    "                print(f\"Failed to fetch {url}: Status Code {response.status_code}\")\n",
    "        except Exception as e:\n",
    "            print(f\"Error fetching {url}: {e}\")\n",
    "    return articles"
   ]
  },
  {
   "cell_type": "code",
   "execution_count": null,
   "metadata": {},
   "outputs": [],
   "source": [
    "# Fetching news articles\n",
    "news_articles = fetch_news_articles(news_urls)\n",
    "\n",
    "if news_articles:\n",
    "    print(f\"Fetched {len(news_articles)} articles.\")\n",
    "\n",
    "    # Creating Milvus index and storing news articles\n",
    "    embeddings = HuggingFaceEmbeddings(show_progress=True)\n",
    "\n",
    "    # Create Milvus instance and collection\n",
    "    db = Milvus(\n",
    "        embedding_function=embeddings,\n",
    "        connection_args={\"host\": MILVUS_HOST, \"port\": MILVUS_PORT, \"user\": MILVUS_USERNAME, \"password\": MILVUS_PASSWORD},\n",
    "        collection_name=MILVUS_COLLECTION,\n",
    "        metadata_field=\"metadata\",\n",
    "        text_field=\"page_content\",\n",
    "        auto_id=True,\n",
    "        drop_old=True\n",
    "    )\n",
    "\n",
    "    # Splitting the articles into chunks before ingestion\n",
    "    text_splitter = RecursiveCharacterTextSplitter(chunk_size=1024, chunk_overlap=128)\n",
    "    chunks = text_splitter.create_documents([\n",
    "        article[\"content\"] for article in news_articles\n",
    "    ], metadatas=[{\"source\": article[\"url\"]} for article in news_articles])\n",
    "\n",
    "    # Adding documents to the Milvus collection\n",
    "    db.add_documents(chunks)\n",
    "    print(\"News articles added to Milvus successfully!\")\n",
    "else:\n",
    "    print(\"No news articles to process.\")\n"
   ]
  }
 ],
 "metadata": {
  "language_info": {
   "name": "python"
  }
 },
 "nbformat": 4,
 "nbformat_minor": 2
}
