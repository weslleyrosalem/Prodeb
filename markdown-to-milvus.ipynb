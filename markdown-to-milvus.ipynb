{
 "cells": [
  {
   "cell_type": "code",
   "execution_count": 9,
   "id": "0127bd16-9cec-4758-be12-9a7a9f837fcc",
   "metadata": {},
   "outputs": [
    {
     "name": "stderr",
     "output_type": "stream",
     "text": [
      "huggingface/tokenizers: The current process just got forked, after parallelism has already been used. Disabling parallelism to avoid deadlocks...\n",
      "To disable this warning, you can either:\n",
      "\t- Avoid using `tokenizers` before the fork if possible\n",
      "\t- Explicitly set the environment variable TOKENIZERS_PARALLELISM=(true | false)\n"
     ]
    },
    {
     "name": "stdout",
     "output_type": "stream",
     "text": [
      "\n",
      "\u001b[1m[\u001b[0m\u001b[34;49mnotice\u001b[0m\u001b[1;39;49m]\u001b[0m\u001b[39;49m A new release of pip is available: \u001b[0m\u001b[31;49m23.2.1\u001b[0m\u001b[39;49m -> \u001b[0m\u001b[32;49m25.0\u001b[0m\n",
      "\u001b[1m[\u001b[0m\u001b[34;49mnotice\u001b[0m\u001b[1;39;49m]\u001b[0m\u001b[39;49m To update, run: \u001b[0m\u001b[32;49mpip install --upgrade pip\u001b[0m\n"
     ]
    }
   ],
   "source": [
    "# Required libraries installation\n",
    "!pip install -q einops==0.7.0 langchain==0.1.9 pypdf==4.0.2 pymilvus==2.3.6 sentence-transformers==2.4.0 redis\n",
    "\n",
    "# Importing necessary libraries\n",
    "import os\n",
    "import json\n",
    "from langchain.text_splitter import RecursiveCharacterTextSplitter\n",
    "from langchain.embeddings.huggingface import HuggingFaceEmbeddings\n",
    "from langchain_community.vectorstores import Milvus"
   ]
  },
  {
   "cell_type": "code",
   "execution_count": 12,
   "id": "03187276-f9b0-4493-8037-2079b708303d",
   "metadata": {},
   "outputs": [
    {
     "name": "stdout",
     "output_type": "stream",
     "text": [
      "Successfully loaded Markdown file: markdown/IPTU.md\n"
     ]
    }
   ],
   "source": [
    "# Base parameters for Milvus connection\n",
    "MILVUS_HOST = \"vectordb-milvus.milvus.svc.cluster.local\"\n",
    "MILVUS_PORT = 19530\n",
    "MILVUS_USERNAME = \"root\"\n",
    "MILVUS_PASSWORD = \"Milvus\"\n",
    "MILVUS_COLLECTION = \"catalogo_ba_gov\"\n",
    "\n",
    "# Path to your local Markdown file\n",
    "markdown_file_path = \"markdown/IPTU.md\"\n",
    "\n",
    "# Read the Markdown file content\n",
    "try:\n",
    "    with open(markdown_file_path, \"r\", encoding=\"utf-8\") as f:\n",
    "        markdown_content = f.read()\n",
    "    print(f\"Successfully loaded Markdown file: {markdown_file_path}\")\n",
    "except Exception as e:\n",
    "    print(f\"Error reading the file {markdown_file_path}: {e}\")\n",
    "    raise\n",
    "\n",
    "# Create the embeddings function\n",
    "embeddings = HuggingFaceEmbeddings(model_kwargs={\"trust_remote_code\": True}, show_progress=True)\n",
    "\n",
    "# Initialize Milvus connection and collection\n",
    "db = Milvus(\n",
    "    embedding_function=embeddings,\n",
    "    connection_args={\n",
    "        \"host\": MILVUS_HOST,\n",
    "        \"port\": MILVUS_PORT,\n",
    "        \"user\": MILVUS_USERNAME,\n",
    "        \"password\": MILVUS_PASSWORD\n",
    "    },\n",
    "    collection_name=MILVUS_COLLECTION,\n",
    "    metadata_field=\"metadata\",\n",
    "    text_field=\"page_content\",\n",
    "    auto_id=True,\n",
    "    drop_old=False\n",
    ")\n",
    "\n",
    "# Splitting the Markdown content into chunks\n",
    "# Adjusted chunk size for Qwen/Qwen2-0.5B-Instruct: 256 tokens with a 30-token overlap.\n",
    "text_splitter = RecursiveCharacterTextSplitter(chunk_size=512, chunk_overlap=30)\n",
    "chunks = text_splitter.create_documents(\n",
    "    [markdown_content],\n",
    "    metadatas=[{\"source\": markdown_file_path}]\n",
    ")"
   ]
  },
  {
   "cell_type": "code",
   "execution_count": 13,
   "id": "1f947664-83cd-4e19-8514-649755a20e9b",
   "metadata": {},
   "outputs": [
    {
     "data": {
      "application/vnd.jupyter.widget-view+json": {
       "model_id": "1f098b3424e349a59c1cf52051223f30",
       "version_major": 2,
       "version_minor": 0
      },
      "text/plain": [
       "Batches:   0%|          | 0/1 [00:00<?, ?it/s]"
      ]
     },
     "metadata": {},
     "output_type": "display_data"
    },
    {
     "name": "stdout",
     "output_type": "stream",
     "text": [
      "Markdown content uploaded to Milvus successfully!\n"
     ]
    }
   ],
   "source": [
    "# Adding the document chunks to Milvus\n",
    "db.add_documents(chunks)\n",
    "print(\"Markdown content uploaded to Milvus successfully!\")"
   ]
  },
  {
   "cell_type": "code",
   "execution_count": null,
   "id": "043df6ba-1a49-409e-90f4-04829df1b66d",
   "metadata": {},
   "outputs": [],
   "source": []
  }
 ],
 "metadata": {
  "kernelspec": {
   "display_name": "Python 3.11",
   "language": "python",
   "name": "python3"
  },
  "language_info": {
   "codemirror_mode": {
    "name": "ipython",
    "version": 3
   },
   "file_extension": ".py",
   "mimetype": "text/x-python",
   "name": "python",
   "nbconvert_exporter": "python",
   "pygments_lexer": "ipython3",
   "version": "3.11.7"
  }
 },
 "nbformat": 4,
 "nbformat_minor": 5
}
