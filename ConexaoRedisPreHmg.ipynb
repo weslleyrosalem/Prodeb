{
 "cells": [
  {
   "cell_type": "code",
   "execution_count": null,
   "id": "720c51bd-4a38-40f3-9b0c-14f99beb31ec",
   "metadata": {
    "tags": []
   },
   "outputs": [],
   "source": [
    "!pip install redis"
   ]
  },
  {
   "cell_type": "code",
   "execution_count": null,
   "id": "cc84897a-f911-4fb1-a6ee-dc589ca22577",
   "metadata": {
    "tags": []
   },
   "outputs": [],
   "source": [
    "import redis"
   ]
  },
  {
   "cell_type": "code",
   "execution_count": null,
   "id": "4637257c-2031-435c-b076-d19735297291",
   "metadata": {
    "tags": []
   },
   "outputs": [],
   "source": [
    "REDIS_PASSWORD = 'KQbtKHQFCGKr'\n",
    "\n",
    "def conectar_redis():\n",
    "    try:\n",
    "        cliente = redis.Redis(\n",
    "            host='10.2.201.73',\n",
    "            port=6379,\n",
    "            db=0,\n",
    "            password=REDIS_PASSWORD\n",
    "        )\n",
    "\n",
    "        if cliente.ping():\n",
    "            print(\"Conexão com Redis estabelecida com sucesso!\")\n",
    "        return cliente\n",
    "    except redis.ConnectionError as e:\n",
    "        print(f\"Erro ao conectar ao Redis: {e}\")\n",
    "        return None"
   ]
  },
  {
   "cell_type": "code",
   "execution_count": null,
   "id": "e99bfa12-f4e5-43d3-8a99-c32310b8b15d",
   "metadata": {
    "tags": []
   },
   "outputs": [],
   "source": [
    "def buscar_chave(redis_cliente, chave):\n",
    "    try:\n",
    "        valor = redis_cliente.get(chave)\n",
    "        if valor is not None:\n",
    "            return valor.decode('utf-8')\n",
    "        else:\n",
    "            return f\"A chave '{chave}' não existe no Redis.\"\n",
    "    except Exception as e:\n",
    "        return f\"Erro ao buscar a chave '{chave}': {e}\""
   ]
  },
  {
   "cell_type": "code",
   "execution_count": null,
   "id": "f55538e9-5c6f-491f-8c01-940819e7f08a",
   "metadata": {
    "tags": []
   },
   "outputs": [],
   "source": [
    "cliente_redis = conectar_redis()\n",
    "\n",
    "if cliente_redis:\n",
    "    chave = \"catalogo-completo#carta-servico\"\n",
    "\n",
    "    resultado = buscar_chave(cliente_redis, chave)\n",
    "\n",
    "    print(f\"Resultado: {resultado}\")"
   ]
  },
  {
   "cell_type": "code",
   "execution_count": null,
   "id": "119b5bbe-b33d-4657-a1a4-8a43e80ff19a",
   "metadata": {},
   "outputs": [],
   "source": []
  }
 ],
 "metadata": {
  "kernelspec": {
   "display_name": "Python 3.9",
   "language": "python",
   "name": "python3"
  },
  "language_info": {
   "codemirror_mode": {
    "name": "ipython",
    "version": 3
   },
   "file_extension": ".py",
   "mimetype": "text/x-python",
   "name": "python",
   "nbconvert_exporter": "python",
   "pygments_lexer": "ipython3",
   "version": "3.9.18"
  }
 },
 "nbformat": 4,
 "nbformat_minor": 5
}
