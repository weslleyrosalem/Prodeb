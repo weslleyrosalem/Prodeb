{
 "cells": [
  {
   "cell_type": "code",
   "execution_count": null,
   "metadata": {},
   "outputs": [],
   "source": [
    "# Required libraries installation\n",
    "!pip install -q einops==0.7.0 langchain==0.1.9 pypdf==4.0.2 pymilvus==2.3.6 sentence-transformers==2.4.0 redis\n"
   ]
  },
  {
   "cell_type": "code",
   "execution_count": null,
   "metadata": {},
   "outputs": [],
   "source": [
    "# Importing necessary libraries\n",
    "import os\n",
    "import requests\n",
    "import redis\n",
    "import json\n",
    "from langchain.document_loaders import PyPDFDirectoryLoader, WebBaseLoader\n",
    "from langchain.text_splitter import RecursiveCharacterTextSplitter\n",
    "from langchain.embeddings.huggingface import HuggingFaceEmbeddings\n",
    "from langchain_community.vectorstores import Milvus"
   ]
  },
  {
   "cell_type": "code",
   "execution_count": null,
   "metadata": {},
   "outputs": [],
   "source": [
    "# Base parameters for Milvus connection\n",
    "MILVUS_HOST = \"vectordb-milvus.milvus.svc.cluster.local\"\n",
    "MILVUS_PORT = 19530\n",
    "MILVUS_USERNAME = \"root\"\n",
    "MILVUS_PASSWORD = \"Milvus\"\n",
    "MILVUS_COLLECTION = \"catalogo_ba_gov\"\n",
    "\n",
    "# Redis connection parameters\n",
    "REDIS_PASSWORD = 'KQbtKHQFCGKr'\n",
    "REDIS_HOST = '10.2.201.73'\n",
    "REDIS_PORT = 6379"
   ]
  },
  {
   "cell_type": "code",
   "execution_count": null,
   "metadata": {},
   "outputs": [],
   "source": [
    "# Function to connect to Redis\n",
    "def conectar_redis():\n",
    "    try:\n",
    "        cliente = redis.Redis(\n",
    "            host=REDIS_HOST,\n",
    "            port=REDIS_PORT,\n",
    "            db=0,\n",
    "            password=REDIS_PASSWORD\n",
    "        )\n",
    "        if cliente.ping():\n",
    "            print(\"Conexão com Redis estabelecida com sucesso!\")\n",
    "        return cliente\n",
    "    except redis.ConnectionError as e:\n",
    "        print(f\"Erro ao conectar ao Redis: {e}\")\n",
    "        return None"
   ]
  },
  {
   "cell_type": "code",
   "execution_count": null,
   "metadata": {},
   "outputs": [],
   "source": [
    "# Function to fetch key from Redis\n",
    "def buscar_chave(redis_cliente, chave):\n",
    "    try:\n",
    "        valor = redis_cliente.get(chave)\n",
    "        if valor is not None:\n",
    "            return valor.decode('utf-8')\n",
    "        else:\n",
    "            return f\"A chave '{chave}' não existe no Redis.\"\n",
    "    except Exception as e:\n",
    "        return f\"Erro ao buscar a chave '{chave}': {e}\""
   ]
  },
  {
   "cell_type": "code",
   "execution_count": null,
   "metadata": {},
   "outputs": [],
   "source": [
    "# Connecting to Redis and fetching data\n",
    "cliente_redis = conectar_redis()\n",
    "if cliente_redis:\n",
    "    chave = \"catalogo-completo#carta-servico\"\n",
    "\n",
    "    itens_filtrados = []\n",
    "\n",
    "    resultado = buscar_chave(cliente_redis, chave)\n",
    "    if resultado and not resultado.startswith(\"A chave\"):\n",
    "        resultado_json = json.loads(resultado)\n",
    "\n",
    "        for item in resultado_json['items']:\n",
    "            for servico in item['servicos']:\n",
    "                resumido = {\n",
    "                    \"descricaoResumida\": servico.get(\"descricaoResumida\"),\n",
    "                    \"nome_servico\": servico.get(\"nome_servico\"),\n",
    "                    \"palavras_chave\": servico.get(\"palavras_chave\"),\n",
    "                    \"nome_orgao\": servico.get(\"nome_orgao\")\n",
    "                }\n",
    "\n",
    "                itens_filtrados.append(resumido)\n",
    "\n",
    "        print(f\"Dados: {itens_filtrados}\")\n",
    "\n",
    "        # Creating Milvus index and storing filtered data\n",
    "        embeddings = HuggingFaceEmbeddings({'trust_remote_code': True}, show_progress=True)\n",
    "\n",
    "        # Create Milvus instance and collection\n",
    "        db = Milvus(\n",
    "            embedding_function=embeddings,\n",
    "            connection_args={\"host\": MILVUS_HOST, \"port\": MILVUS_PORT, \"user\": MILVUS_USERNAME, \"password\": MILVUS_PASSWORD},\n",
    "            collection_name=MILVUS_COLLECTION,\n",
    "            metadata_field=\"metadata\",\n",
    "            text_field=\"page_content\",\n",
    "            auto_id=True,\n",
    "            drop_old=True\n",
    "        )\n",
    "\n",
    "        # Splitting the data into chunks before ingestion\n",
    "        text_splitter = RecursiveCharacterTextSplitter(chunk_size=1024, chunk_overlap=128)\n",
    "        chunks = text_splitter.create_documents([\n",
    "            json.dumps(item) for item in itens_filtrados\n",
    "        ], metadatas=[{\"source\": chave} for _ in itens_filtrados])\n",
    "\n",
    "        # Adding documents to the Milvus collection\n",
    "        db.add_documents(chunks)\n",
    "        print(\"Dados adicionados ao Milvus com sucesso!\")\n",
    "    else:\n",
    "        print(\"Nenhum dado relevante encontrado no Redis para processar.\")"
   ]
  }
 ],
 "metadata": {
  "language_info": {
   "name": "python"
  }
 },
 "nbformat": 4,
 "nbformat_minor": 2
}
